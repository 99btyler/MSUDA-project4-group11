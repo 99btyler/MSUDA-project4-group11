{
 "cells": [
  {
   "cell_type": "markdown",
   "metadata": {},
   "source": [
    "# \"Global sales\" model"
   ]
  },
  {
   "cell_type": "code",
   "execution_count": 1,
   "metadata": {},
   "outputs": [
    {
     "name": "stderr",
     "output_type": "stream",
     "text": [
      "/Users/tyler/Library/Python/3.9/lib/python/site-packages/urllib3/__init__.py:35: NotOpenSSLWarning: urllib3 v2 only supports OpenSSL 1.1.1+, currently the 'ssl' module is compiled with 'LibreSSL 2.8.3'. See: https://github.com/urllib3/urllib3/issues/3020\n",
      "  warnings.warn(\n"
     ]
    }
   ],
   "source": [
    "import pandas as pd\n",
    "\n",
    "from tensorflow import keras\n",
    "\n",
    "from sklearn.preprocessing import LabelEncoder, StandardScaler\n",
    "from sklearn.metrics import r2_score\n",
    "from sklearn.model_selection import train_test_split"
   ]
  },
  {
   "cell_type": "code",
   "execution_count": 2,
   "metadata": {},
   "outputs": [
    {
     "data": {
      "text/html": [
       "<div>\n",
       "<style scoped>\n",
       "    .dataframe tbody tr th:only-of-type {\n",
       "        vertical-align: middle;\n",
       "    }\n",
       "\n",
       "    .dataframe tbody tr th {\n",
       "        vertical-align: top;\n",
       "    }\n",
       "\n",
       "    .dataframe thead th {\n",
       "        text-align: right;\n",
       "    }\n",
       "</style>\n",
       "<table border=\"1\" class=\"dataframe\">\n",
       "  <thead>\n",
       "    <tr style=\"text-align: right;\">\n",
       "      <th></th>\n",
       "      <th>Name</th>\n",
       "      <th>Platform</th>\n",
       "      <th>Publisher</th>\n",
       "      <th>Genre</th>\n",
       "      <th>Rating</th>\n",
       "      <th>Year of Release</th>\n",
       "      <th>Critic Score</th>\n",
       "      <th>User Score</th>\n",
       "      <th>NA Sales</th>\n",
       "      <th>EU Sales</th>\n",
       "      <th>JP Sales</th>\n",
       "      <th>Other Sales</th>\n",
       "      <th>Global Sales</th>\n",
       "    </tr>\n",
       "  </thead>\n",
       "  <tbody>\n",
       "    <tr>\n",
       "      <th>0</th>\n",
       "      <td>Wii Sports</td>\n",
       "      <td>Wii</td>\n",
       "      <td>Nintendo</td>\n",
       "      <td>Sports</td>\n",
       "      <td>E</td>\n",
       "      <td>2006</td>\n",
       "      <td>76.0</td>\n",
       "      <td>8.0</td>\n",
       "      <td>41.36</td>\n",
       "      <td>28.96</td>\n",
       "      <td>3.77</td>\n",
       "      <td>8.45</td>\n",
       "      <td>82.53</td>\n",
       "    </tr>\n",
       "    <tr>\n",
       "      <th>1</th>\n",
       "      <td>Mario Kart Wii</td>\n",
       "      <td>Wii</td>\n",
       "      <td>Nintendo</td>\n",
       "      <td>Racing</td>\n",
       "      <td>E</td>\n",
       "      <td>2008</td>\n",
       "      <td>82.0</td>\n",
       "      <td>8.3</td>\n",
       "      <td>15.68</td>\n",
       "      <td>12.76</td>\n",
       "      <td>3.79</td>\n",
       "      <td>3.29</td>\n",
       "      <td>35.52</td>\n",
       "    </tr>\n",
       "    <tr>\n",
       "      <th>2</th>\n",
       "      <td>Wii Sports Resort</td>\n",
       "      <td>Wii</td>\n",
       "      <td>Nintendo</td>\n",
       "      <td>Sports</td>\n",
       "      <td>E</td>\n",
       "      <td>2009</td>\n",
       "      <td>80.0</td>\n",
       "      <td>8.0</td>\n",
       "      <td>15.61</td>\n",
       "      <td>10.93</td>\n",
       "      <td>3.28</td>\n",
       "      <td>2.95</td>\n",
       "      <td>32.77</td>\n",
       "    </tr>\n",
       "    <tr>\n",
       "      <th>3</th>\n",
       "      <td>New Super Mario Bros.</td>\n",
       "      <td>DS</td>\n",
       "      <td>Nintendo</td>\n",
       "      <td>Platform</td>\n",
       "      <td>E</td>\n",
       "      <td>2006</td>\n",
       "      <td>89.0</td>\n",
       "      <td>8.5</td>\n",
       "      <td>11.28</td>\n",
       "      <td>9.14</td>\n",
       "      <td>6.50</td>\n",
       "      <td>2.88</td>\n",
       "      <td>29.80</td>\n",
       "    </tr>\n",
       "    <tr>\n",
       "      <th>4</th>\n",
       "      <td>Wii Play</td>\n",
       "      <td>Wii</td>\n",
       "      <td>Nintendo</td>\n",
       "      <td>Misc</td>\n",
       "      <td>E</td>\n",
       "      <td>2006</td>\n",
       "      <td>58.0</td>\n",
       "      <td>6.6</td>\n",
       "      <td>13.96</td>\n",
       "      <td>9.18</td>\n",
       "      <td>2.93</td>\n",
       "      <td>2.84</td>\n",
       "      <td>28.92</td>\n",
       "    </tr>\n",
       "  </tbody>\n",
       "</table>\n",
       "</div>"
      ],
      "text/plain": [
       "                    Name Platform Publisher     Genre Rating  Year of Release  \\\n",
       "0             Wii Sports      Wii  Nintendo    Sports      E             2006   \n",
       "1         Mario Kart Wii      Wii  Nintendo    Racing      E             2008   \n",
       "2      Wii Sports Resort      Wii  Nintendo    Sports      E             2009   \n",
       "3  New Super Mario Bros.       DS  Nintendo  Platform      E             2006   \n",
       "4               Wii Play      Wii  Nintendo      Misc      E             2006   \n",
       "\n",
       "   Critic Score  User Score  NA Sales  EU Sales  JP Sales  Other Sales  \\\n",
       "0          76.0         8.0     41.36     28.96      3.77         8.45   \n",
       "1          82.0         8.3     15.68     12.76      3.79         3.29   \n",
       "2          80.0         8.0     15.61     10.93      3.28         2.95   \n",
       "3          89.0         8.5     11.28      9.14      6.50         2.88   \n",
       "4          58.0         6.6     13.96      9.18      2.93         2.84   \n",
       "\n",
       "   Global Sales  \n",
       "0         82.53  \n",
       "1         35.52  \n",
       "2         32.77  \n",
       "3         29.80  \n",
       "4         28.92  "
      ]
     },
     "execution_count": 2,
     "metadata": {},
     "output_type": "execute_result"
    }
   ],
   "source": [
    "game_sales_ml_df = pd.read_csv(\"data/game_sales_ml.csv\")\n",
    "\n",
    "game_sales_ml_df.head()"
   ]
  },
  {
   "cell_type": "markdown",
   "metadata": {},
   "source": [
    "## Data preprocessing"
   ]
  },
  {
   "cell_type": "code",
   "execution_count": 3,
   "metadata": {},
   "outputs": [
    {
     "data": {
      "text/html": [
       "<div>\n",
       "<style scoped>\n",
       "    .dataframe tbody tr th:only-of-type {\n",
       "        vertical-align: middle;\n",
       "    }\n",
       "\n",
       "    .dataframe tbody tr th {\n",
       "        vertical-align: top;\n",
       "    }\n",
       "\n",
       "    .dataframe thead th {\n",
       "        text-align: right;\n",
       "    }\n",
       "</style>\n",
       "<table border=\"1\" class=\"dataframe\">\n",
       "  <thead>\n",
       "    <tr style=\"text-align: right;\">\n",
       "      <th></th>\n",
       "      <th>Name</th>\n",
       "      <th>Platform</th>\n",
       "      <th>Publisher</th>\n",
       "      <th>Genre</th>\n",
       "      <th>Rating</th>\n",
       "      <th>Year of Release</th>\n",
       "      <th>Critic Score</th>\n",
       "      <th>User Score</th>\n",
       "      <th>NA Sales</th>\n",
       "      <th>EU Sales</th>\n",
       "      <th>JP Sales</th>\n",
       "      <th>Other Sales</th>\n",
       "      <th>Global Sales</th>\n",
       "    </tr>\n",
       "  </thead>\n",
       "  <tbody>\n",
       "    <tr>\n",
       "      <th>0</th>\n",
       "      <td>Wii Sports</td>\n",
       "      <td>Wii</td>\n",
       "      <td>Nintendo</td>\n",
       "      <td>Sports</td>\n",
       "      <td>E</td>\n",
       "      <td>2006</td>\n",
       "      <td>76.0</td>\n",
       "      <td>8.0</td>\n",
       "      <td>41.36</td>\n",
       "      <td>28.96</td>\n",
       "      <td>3.77</td>\n",
       "      <td>8.45</td>\n",
       "      <td>82.53</td>\n",
       "    </tr>\n",
       "    <tr>\n",
       "      <th>1</th>\n",
       "      <td>Mario Kart Wii</td>\n",
       "      <td>Wii</td>\n",
       "      <td>Nintendo</td>\n",
       "      <td>Racing</td>\n",
       "      <td>E</td>\n",
       "      <td>2008</td>\n",
       "      <td>82.0</td>\n",
       "      <td>8.3</td>\n",
       "      <td>15.68</td>\n",
       "      <td>12.76</td>\n",
       "      <td>3.79</td>\n",
       "      <td>3.29</td>\n",
       "      <td>35.52</td>\n",
       "    </tr>\n",
       "    <tr>\n",
       "      <th>2</th>\n",
       "      <td>Wii Sports Resort</td>\n",
       "      <td>Wii</td>\n",
       "      <td>Nintendo</td>\n",
       "      <td>Sports</td>\n",
       "      <td>E</td>\n",
       "      <td>2009</td>\n",
       "      <td>80.0</td>\n",
       "      <td>8.0</td>\n",
       "      <td>15.61</td>\n",
       "      <td>10.93</td>\n",
       "      <td>3.28</td>\n",
       "      <td>2.95</td>\n",
       "      <td>32.77</td>\n",
       "    </tr>\n",
       "    <tr>\n",
       "      <th>3</th>\n",
       "      <td>New Super Mario Bros.</td>\n",
       "      <td>DS</td>\n",
       "      <td>Nintendo</td>\n",
       "      <td>Platform</td>\n",
       "      <td>E</td>\n",
       "      <td>2006</td>\n",
       "      <td>89.0</td>\n",
       "      <td>8.5</td>\n",
       "      <td>11.28</td>\n",
       "      <td>9.14</td>\n",
       "      <td>6.50</td>\n",
       "      <td>2.88</td>\n",
       "      <td>29.80</td>\n",
       "    </tr>\n",
       "    <tr>\n",
       "      <th>4</th>\n",
       "      <td>Wii Play</td>\n",
       "      <td>Wii</td>\n",
       "      <td>Nintendo</td>\n",
       "      <td>Misc</td>\n",
       "      <td>E</td>\n",
       "      <td>2006</td>\n",
       "      <td>58.0</td>\n",
       "      <td>6.6</td>\n",
       "      <td>13.96</td>\n",
       "      <td>9.18</td>\n",
       "      <td>2.93</td>\n",
       "      <td>2.84</td>\n",
       "      <td>28.92</td>\n",
       "    </tr>\n",
       "  </tbody>\n",
       "</table>\n",
       "</div>"
      ],
      "text/plain": [
       "                    Name Platform Publisher     Genre Rating  Year of Release  \\\n",
       "0             Wii Sports      Wii  Nintendo    Sports      E             2006   \n",
       "1         Mario Kart Wii      Wii  Nintendo    Racing      E             2008   \n",
       "2      Wii Sports Resort      Wii  Nintendo    Sports      E             2009   \n",
       "3  New Super Mario Bros.       DS  Nintendo  Platform      E             2006   \n",
       "4               Wii Play      Wii  Nintendo      Misc      E             2006   \n",
       "\n",
       "   Critic Score  User Score  NA Sales  EU Sales  JP Sales  Other Sales  \\\n",
       "0          76.0         8.0     41.36     28.96      3.77         8.45   \n",
       "1          82.0         8.3     15.68     12.76      3.79         3.29   \n",
       "2          80.0         8.0     15.61     10.93      3.28         2.95   \n",
       "3          89.0         8.5     11.28      9.14      6.50         2.88   \n",
       "4          58.0         6.6     13.96      9.18      2.93         2.84   \n",
       "\n",
       "   Global Sales  \n",
       "0         82.53  \n",
       "1         35.52  \n",
       "2         32.77  \n",
       "3         29.80  \n",
       "4         28.92  "
      ]
     },
     "execution_count": 3,
     "metadata": {},
     "output_type": "execute_result"
    }
   ],
   "source": [
    "model_df = game_sales_ml_df.copy()\n",
    "\n",
    "model_df.head()"
   ]
  },
  {
   "cell_type": "markdown",
   "metadata": {},
   "source": [
    "### Handling categorical data"
   ]
  },
  {
   "cell_type": "code",
   "execution_count": 4,
   "metadata": {},
   "outputs": [
    {
     "data": {
      "text/plain": [
       "Name         4428\n",
       "Platform       17\n",
       "Publisher     271\n",
       "Genre          12\n",
       "Rating          8\n",
       "dtype: int64"
      ]
     },
     "execution_count": 4,
     "metadata": {},
     "output_type": "execute_result"
    }
   ],
   "source": [
    "# NEW DATA: model_df[[\"name\", \"platform\", \"Genre\", \"Publisher\", \"Developer\", \"Rating\"]].nunique()\n",
    "model_df[[\"Name\", \"Platform\", \"Publisher\", \"Genre\", \"Rating\"]].nunique()"
   ]
  },
  {
   "cell_type": "code",
   "execution_count": 5,
   "metadata": {},
   "outputs": [],
   "source": [
    "unnecessary_columns = [\"Name\"] # too many of them\n",
    "onehot_encode_columns = [\"Platform\", \"Genre\", \"Rating\"] # <=50 of them\n",
    "label_encode_columns = [\"Publisher\"] # >50 of them"
   ]
  },
  {
   "cell_type": "code",
   "execution_count": 6,
   "metadata": {},
   "outputs": [],
   "source": [
    "# unnecessary columns\n",
    "model_df = model_df.drop(columns=unnecessary_columns)\n",
    "\n",
    "# one-hot encode columns\n",
    "model_df = pd.get_dummies(model_df, columns=onehot_encode_columns)\n",
    "\n",
    "# label encode columns\n",
    "label_encoder = LabelEncoder()\n",
    "for label_encode_column in label_encode_columns:\n",
    "    model_df[label_encode_column] = label_encoder.fit_transform(model_df[label_encode_column])"
   ]
  },
  {
   "cell_type": "code",
   "execution_count": 7,
   "metadata": {},
   "outputs": [
    {
     "data": {
      "text/html": [
       "<div>\n",
       "<style scoped>\n",
       "    .dataframe tbody tr th:only-of-type {\n",
       "        vertical-align: middle;\n",
       "    }\n",
       "\n",
       "    .dataframe tbody tr th {\n",
       "        vertical-align: top;\n",
       "    }\n",
       "\n",
       "    .dataframe thead th {\n",
       "        text-align: right;\n",
       "    }\n",
       "</style>\n",
       "<table border=\"1\" class=\"dataframe\">\n",
       "  <thead>\n",
       "    <tr style=\"text-align: right;\">\n",
       "      <th></th>\n",
       "      <th>Publisher</th>\n",
       "      <th>Year of Release</th>\n",
       "      <th>Critic Score</th>\n",
       "      <th>User Score</th>\n",
       "      <th>NA Sales</th>\n",
       "      <th>EU Sales</th>\n",
       "      <th>JP Sales</th>\n",
       "      <th>Other Sales</th>\n",
       "      <th>Global Sales</th>\n",
       "      <th>Platform_3DS</th>\n",
       "      <th>...</th>\n",
       "      <th>Genre_Sports</th>\n",
       "      <th>Genre_Strategy</th>\n",
       "      <th>Rating_AO</th>\n",
       "      <th>Rating_E</th>\n",
       "      <th>Rating_E10+</th>\n",
       "      <th>Rating_K-A</th>\n",
       "      <th>Rating_M</th>\n",
       "      <th>Rating_RP</th>\n",
       "      <th>Rating_T</th>\n",
       "      <th>Rating_Unknown</th>\n",
       "    </tr>\n",
       "  </thead>\n",
       "  <tbody>\n",
       "    <tr>\n",
       "      <th>0</th>\n",
       "      <td>167</td>\n",
       "      <td>2006</td>\n",
       "      <td>76.0</td>\n",
       "      <td>8.0</td>\n",
       "      <td>41.36</td>\n",
       "      <td>28.96</td>\n",
       "      <td>3.77</td>\n",
       "      <td>8.45</td>\n",
       "      <td>82.53</td>\n",
       "      <td>False</td>\n",
       "      <td>...</td>\n",
       "      <td>True</td>\n",
       "      <td>False</td>\n",
       "      <td>False</td>\n",
       "      <td>True</td>\n",
       "      <td>False</td>\n",
       "      <td>False</td>\n",
       "      <td>False</td>\n",
       "      <td>False</td>\n",
       "      <td>False</td>\n",
       "      <td>False</td>\n",
       "    </tr>\n",
       "    <tr>\n",
       "      <th>1</th>\n",
       "      <td>167</td>\n",
       "      <td>2008</td>\n",
       "      <td>82.0</td>\n",
       "      <td>8.3</td>\n",
       "      <td>15.68</td>\n",
       "      <td>12.76</td>\n",
       "      <td>3.79</td>\n",
       "      <td>3.29</td>\n",
       "      <td>35.52</td>\n",
       "      <td>False</td>\n",
       "      <td>...</td>\n",
       "      <td>False</td>\n",
       "      <td>False</td>\n",
       "      <td>False</td>\n",
       "      <td>True</td>\n",
       "      <td>False</td>\n",
       "      <td>False</td>\n",
       "      <td>False</td>\n",
       "      <td>False</td>\n",
       "      <td>False</td>\n",
       "      <td>False</td>\n",
       "    </tr>\n",
       "    <tr>\n",
       "      <th>2</th>\n",
       "      <td>167</td>\n",
       "      <td>2009</td>\n",
       "      <td>80.0</td>\n",
       "      <td>8.0</td>\n",
       "      <td>15.61</td>\n",
       "      <td>10.93</td>\n",
       "      <td>3.28</td>\n",
       "      <td>2.95</td>\n",
       "      <td>32.77</td>\n",
       "      <td>False</td>\n",
       "      <td>...</td>\n",
       "      <td>True</td>\n",
       "      <td>False</td>\n",
       "      <td>False</td>\n",
       "      <td>True</td>\n",
       "      <td>False</td>\n",
       "      <td>False</td>\n",
       "      <td>False</td>\n",
       "      <td>False</td>\n",
       "      <td>False</td>\n",
       "      <td>False</td>\n",
       "    </tr>\n",
       "    <tr>\n",
       "      <th>3</th>\n",
       "      <td>167</td>\n",
       "      <td>2006</td>\n",
       "      <td>89.0</td>\n",
       "      <td>8.5</td>\n",
       "      <td>11.28</td>\n",
       "      <td>9.14</td>\n",
       "      <td>6.50</td>\n",
       "      <td>2.88</td>\n",
       "      <td>29.80</td>\n",
       "      <td>False</td>\n",
       "      <td>...</td>\n",
       "      <td>False</td>\n",
       "      <td>False</td>\n",
       "      <td>False</td>\n",
       "      <td>True</td>\n",
       "      <td>False</td>\n",
       "      <td>False</td>\n",
       "      <td>False</td>\n",
       "      <td>False</td>\n",
       "      <td>False</td>\n",
       "      <td>False</td>\n",
       "    </tr>\n",
       "    <tr>\n",
       "      <th>4</th>\n",
       "      <td>167</td>\n",
       "      <td>2006</td>\n",
       "      <td>58.0</td>\n",
       "      <td>6.6</td>\n",
       "      <td>13.96</td>\n",
       "      <td>9.18</td>\n",
       "      <td>2.93</td>\n",
       "      <td>2.84</td>\n",
       "      <td>28.92</td>\n",
       "      <td>False</td>\n",
       "      <td>...</td>\n",
       "      <td>False</td>\n",
       "      <td>False</td>\n",
       "      <td>False</td>\n",
       "      <td>True</td>\n",
       "      <td>False</td>\n",
       "      <td>False</td>\n",
       "      <td>False</td>\n",
       "      <td>False</td>\n",
       "      <td>False</td>\n",
       "      <td>False</td>\n",
       "    </tr>\n",
       "  </tbody>\n",
       "</table>\n",
       "<p>5 rows × 46 columns</p>\n",
       "</div>"
      ],
      "text/plain": [
       "   Publisher  Year of Release  Critic Score  User Score  NA Sales  EU Sales  \\\n",
       "0        167             2006          76.0         8.0     41.36     28.96   \n",
       "1        167             2008          82.0         8.3     15.68     12.76   \n",
       "2        167             2009          80.0         8.0     15.61     10.93   \n",
       "3        167             2006          89.0         8.5     11.28      9.14   \n",
       "4        167             2006          58.0         6.6     13.96      9.18   \n",
       "\n",
       "   JP Sales  Other Sales  Global Sales  Platform_3DS  ...  Genre_Sports  \\\n",
       "0      3.77         8.45         82.53         False  ...          True   \n",
       "1      3.79         3.29         35.52         False  ...         False   \n",
       "2      3.28         2.95         32.77         False  ...          True   \n",
       "3      6.50         2.88         29.80         False  ...         False   \n",
       "4      2.93         2.84         28.92         False  ...         False   \n",
       "\n",
       "   Genre_Strategy  Rating_AO  Rating_E  Rating_E10+  Rating_K-A  Rating_M  \\\n",
       "0           False      False      True        False       False     False   \n",
       "1           False      False      True        False       False     False   \n",
       "2           False      False      True        False       False     False   \n",
       "3           False      False      True        False       False     False   \n",
       "4           False      False      True        False       False     False   \n",
       "\n",
       "   Rating_RP  Rating_T  Rating_Unknown  \n",
       "0      False     False           False  \n",
       "1      False     False           False  \n",
       "2      False     False           False  \n",
       "3      False     False           False  \n",
       "4      False     False           False  \n",
       "\n",
       "[5 rows x 46 columns]"
      ]
     },
     "execution_count": 7,
     "metadata": {},
     "output_type": "execute_result"
    }
   ],
   "source": [
    "model_df.head()"
   ]
  },
  {
   "cell_type": "markdown",
   "metadata": {},
   "source": [
    "## Modeling"
   ]
  },
  {
   "cell_type": "markdown",
   "metadata": {},
   "source": [
    "### Selecting the target (y) and features (X)"
   ]
  },
  {
   "cell_type": "code",
   "execution_count": 8,
   "metadata": {},
   "outputs": [],
   "source": [
    "y = model_df[\"Global Sales\"] # target\n",
    "X = model_df.drop(columns=[\"Global Sales\"]) # features"
   ]
  },
  {
   "cell_type": "markdown",
   "metadata": {},
   "source": [
    "### Splitting the data: 80% training and 20% testing"
   ]
  },
  {
   "cell_type": "code",
   "execution_count": 9,
   "metadata": {},
   "outputs": [],
   "source": [
    "X_training, X_testing, y_training, y_testing = train_test_split(X, y, test_size=.20, random_state=42)"
   ]
  },
  {
   "cell_type": "code",
   "execution_count": 10,
   "metadata": {},
   "outputs": [],
   "source": [
    "scaler = StandardScaler() # mean=0, standard_deviation=1\n",
    "\n",
    "X_training = scaler.fit_transform(X_training)\n",
    "X_testing = scaler.fit_transform(X_testing)"
   ]
  },
  {
   "cell_type": "markdown",
   "metadata": {},
   "source": [
    "### Building the regression model"
   ]
  },
  {
   "cell_type": "code",
   "execution_count": 11,
   "metadata": {},
   "outputs": [
    {
     "name": "stderr",
     "output_type": "stream",
     "text": [
      "/Users/tyler/Library/Python/3.9/lib/python/site-packages/keras/src/layers/core/dense.py:87: UserWarning: Do not pass an `input_shape`/`input_dim` argument to a layer. When using Sequential models, prefer using an `Input(shape)` object as the first layer in the model instead.\n",
      "  super().__init__(activity_regularizer=activity_regularizer, **kwargs)\n"
     ]
    }
   ],
   "source": [
    "model = keras.Sequential(\n",
    "    [\n",
    "        # layer 1\n",
    "        keras.layers.Dense(128, activation=\"relu\", input_shape=(X_training.shape[1],)),\n",
    "        # layer 2\n",
    "        keras.layers.Dense(64, activation=\"relu\"),\n",
    "        # layer 3\n",
    "        keras.layers.Dense(32, activation=\"relu\"),\n",
    "        # output layer\n",
    "        keras.layers.Dense(1)\n",
    "    ]\n",
    ")\n",
    "\n",
    "model.compile(optimizer=\"adam\", loss=\"mean_squared_error\", metrics=[keras.metrics.RootMeanSquaredError()])"
   ]
  },
  {
   "cell_type": "markdown",
   "metadata": {},
   "source": [
    "### Training and evaluating the regression model"
   ]
  },
  {
   "cell_type": "code",
   "execution_count": 12,
   "metadata": {},
   "outputs": [
    {
     "name": "stdout",
     "output_type": "stream",
     "text": [
      "Epoch 1/50\n",
      "\u001b[1m173/173\u001b[0m \u001b[32m━━━━━━━━━━━━━━━━━━━━\u001b[0m\u001b[37m\u001b[0m \u001b[1m1s\u001b[0m 1ms/step - loss: 2.5809 - root_mean_squared_error: 1.5321 - val_loss: 0.1253 - val_root_mean_squared_error: 0.3540\n",
      "Epoch 2/50\n",
      "\u001b[1m173/173\u001b[0m \u001b[32m━━━━━━━━━━━━━━━━━━━━\u001b[0m\u001b[37m\u001b[0m \u001b[1m0s\u001b[0m 910us/step - loss: 0.0836 - root_mean_squared_error: 0.2860 - val_loss: 0.0968 - val_root_mean_squared_error: 0.3110\n",
      "Epoch 3/50\n",
      "\u001b[1m173/173\u001b[0m \u001b[32m━━━━━━━━━━━━━━━━━━━━\u001b[0m\u001b[37m\u001b[0m \u001b[1m0s\u001b[0m 887us/step - loss: 0.0672 - root_mean_squared_error: 0.2545 - val_loss: 0.1199 - val_root_mean_squared_error: 0.3463\n",
      "Epoch 4/50\n",
      "\u001b[1m173/173\u001b[0m \u001b[32m━━━━━━━━━━━━━━━━━━━━\u001b[0m\u001b[37m\u001b[0m \u001b[1m0s\u001b[0m 894us/step - loss: 0.0325 - root_mean_squared_error: 0.1776 - val_loss: 0.1396 - val_root_mean_squared_error: 0.3736\n",
      "Epoch 5/50\n",
      "\u001b[1m173/173\u001b[0m \u001b[32m━━━━━━━━━━━━━━━━━━━━\u001b[0m\u001b[37m\u001b[0m \u001b[1m0s\u001b[0m 866us/step - loss: 0.0245 - root_mean_squared_error: 0.1556 - val_loss: 0.0668 - val_root_mean_squared_error: 0.2584\n",
      "Epoch 6/50\n",
      "\u001b[1m173/173\u001b[0m \u001b[32m━━━━━━━━━━━━━━━━━━━━\u001b[0m\u001b[37m\u001b[0m \u001b[1m0s\u001b[0m 881us/step - loss: 0.0176 - root_mean_squared_error: 0.1320 - val_loss: 0.1751 - val_root_mean_squared_error: 0.4185\n",
      "Epoch 7/50\n",
      "\u001b[1m173/173\u001b[0m \u001b[32m━━━━━━━━━━━━━━━━━━━━\u001b[0m\u001b[37m\u001b[0m \u001b[1m0s\u001b[0m 897us/step - loss: 0.0349 - root_mean_squared_error: 0.1851 - val_loss: 0.1196 - val_root_mean_squared_error: 0.3459\n",
      "Epoch 8/50\n",
      "\u001b[1m173/173\u001b[0m \u001b[32m━━━━━━━━━━━━━━━━━━━━\u001b[0m\u001b[37m\u001b[0m \u001b[1m0s\u001b[0m 883us/step - loss: 0.0107 - root_mean_squared_error: 0.1029 - val_loss: 0.2475 - val_root_mean_squared_error: 0.4975\n",
      "Epoch 9/50\n",
      "\u001b[1m173/173\u001b[0m \u001b[32m━━━━━━━━━━━━━━━━━━━━\u001b[0m\u001b[37m\u001b[0m \u001b[1m0s\u001b[0m 880us/step - loss: 0.0127 - root_mean_squared_error: 0.1120 - val_loss: 0.1053 - val_root_mean_squared_error: 0.3245\n",
      "Epoch 10/50\n",
      "\u001b[1m173/173\u001b[0m \u001b[32m━━━━━━━━━━━━━━━━━━━━\u001b[0m\u001b[37m\u001b[0m \u001b[1m0s\u001b[0m 881us/step - loss: 0.0385 - root_mean_squared_error: 0.1921 - val_loss: 0.0826 - val_root_mean_squared_error: 0.2875\n",
      "Epoch 11/50\n",
      "\u001b[1m173/173\u001b[0m \u001b[32m━━━━━━━━━━━━━━━━━━━━\u001b[0m\u001b[37m\u001b[0m \u001b[1m0s\u001b[0m 860us/step - loss: 0.0236 - root_mean_squared_error: 0.1433 - val_loss: 0.1082 - val_root_mean_squared_error: 0.3290\n",
      "Epoch 12/50\n",
      "\u001b[1m173/173\u001b[0m \u001b[32m━━━━━━━━━━━━━━━━━━━━\u001b[0m\u001b[37m\u001b[0m \u001b[1m0s\u001b[0m 879us/step - loss: 0.0657 - root_mean_squared_error: 0.2368 - val_loss: 0.0967 - val_root_mean_squared_error: 0.3110\n",
      "Epoch 13/50\n",
      "\u001b[1m173/173\u001b[0m \u001b[32m━━━━━━━━━━━━━━━━━━━━\u001b[0m\u001b[37m\u001b[0m \u001b[1m0s\u001b[0m 868us/step - loss: 0.2847 - root_mean_squared_error: 0.5182 - val_loss: 0.1113 - val_root_mean_squared_error: 0.3336\n",
      "Epoch 14/50\n",
      "\u001b[1m173/173\u001b[0m \u001b[32m━━━━━━━━━━━━━━━━━━━━\u001b[0m\u001b[37m\u001b[0m \u001b[1m0s\u001b[0m 901us/step - loss: 0.0138 - root_mean_squared_error: 0.1169 - val_loss: 0.1120 - val_root_mean_squared_error: 0.3347\n",
      "Epoch 15/50\n",
      "\u001b[1m173/173\u001b[0m \u001b[32m━━━━━━━━━━━━━━━━━━━━\u001b[0m\u001b[37m\u001b[0m \u001b[1m0s\u001b[0m 862us/step - loss: 0.0115 - root_mean_squared_error: 0.1070 - val_loss: 0.0906 - val_root_mean_squared_error: 0.3010\n",
      "Epoch 16/50\n",
      "\u001b[1m173/173\u001b[0m \u001b[32m━━━━━━━━━━━━━━━━━━━━\u001b[0m\u001b[37m\u001b[0m \u001b[1m0s\u001b[0m 851us/step - loss: 0.0058 - root_mean_squared_error: 0.0749 - val_loss: 0.0875 - val_root_mean_squared_error: 0.2958\n",
      "Epoch 17/50\n",
      "\u001b[1m173/173\u001b[0m \u001b[32m━━━━━━━━━━━━━━━━━━━━\u001b[0m\u001b[37m\u001b[0m \u001b[1m0s\u001b[0m 875us/step - loss: 0.0046 - root_mean_squared_error: 0.0671 - val_loss: 0.0991 - val_root_mean_squared_error: 0.3147\n",
      "Epoch 18/50\n",
      "\u001b[1m173/173\u001b[0m \u001b[32m━━━━━━━━━━━━━━━━━━━━\u001b[0m\u001b[37m\u001b[0m \u001b[1m0s\u001b[0m 883us/step - loss: 0.0060 - root_mean_squared_error: 0.0765 - val_loss: 0.0512 - val_root_mean_squared_error: 0.2263\n",
      "Epoch 19/50\n",
      "\u001b[1m173/173\u001b[0m \u001b[32m━━━━━━━━━━━━━━━━━━━━\u001b[0m\u001b[37m\u001b[0m \u001b[1m0s\u001b[0m 880us/step - loss: 0.0082 - root_mean_squared_error: 0.0901 - val_loss: 0.1143 - val_root_mean_squared_error: 0.3381\n",
      "Epoch 20/50\n",
      "\u001b[1m173/173\u001b[0m \u001b[32m━━━━━━━━━━━━━━━━━━━━\u001b[0m\u001b[37m\u001b[0m \u001b[1m0s\u001b[0m 882us/step - loss: 0.0090 - root_mean_squared_error: 0.0933 - val_loss: 0.0724 - val_root_mean_squared_error: 0.2690\n",
      "Epoch 21/50\n",
      "\u001b[1m173/173\u001b[0m \u001b[32m━━━━━━━━━━━━━━━━━━━━\u001b[0m\u001b[37m\u001b[0m \u001b[1m0s\u001b[0m 1ms/step - loss: 0.0043 - root_mean_squared_error: 0.0655 - val_loss: 0.0837 - val_root_mean_squared_error: 0.2894\n",
      "Epoch 22/50\n",
      "\u001b[1m173/173\u001b[0m \u001b[32m━━━━━━━━━━━━━━━━━━━━\u001b[0m\u001b[37m\u001b[0m \u001b[1m0s\u001b[0m 850us/step - loss: 0.0080 - root_mean_squared_error: 0.0852 - val_loss: 0.0641 - val_root_mean_squared_error: 0.2531\n",
      "Epoch 23/50\n",
      "\u001b[1m173/173\u001b[0m \u001b[32m━━━━━━━━━━━━━━━━━━━━\u001b[0m\u001b[37m\u001b[0m \u001b[1m0s\u001b[0m 874us/step - loss: 0.0193 - root_mean_squared_error: 0.1277 - val_loss: 0.1008 - val_root_mean_squared_error: 0.3175\n",
      "Epoch 24/50\n",
      "\u001b[1m173/173\u001b[0m \u001b[32m━━━━━━━━━━━━━━━━━━━━\u001b[0m\u001b[37m\u001b[0m \u001b[1m0s\u001b[0m 879us/step - loss: 0.0236 - root_mean_squared_error: 0.1360 - val_loss: 0.0898 - val_root_mean_squared_error: 0.2997\n",
      "Epoch 25/50\n",
      "\u001b[1m173/173\u001b[0m \u001b[32m━━━━━━━━━━━━━━━━━━━━\u001b[0m\u001b[37m\u001b[0m \u001b[1m0s\u001b[0m 865us/step - loss: 0.0630 - root_mean_squared_error: 0.2311 - val_loss: 0.0961 - val_root_mean_squared_error: 0.3100\n",
      "Epoch 26/50\n",
      "\u001b[1m173/173\u001b[0m \u001b[32m━━━━━━━━━━━━━━━━━━━━\u001b[0m\u001b[37m\u001b[0m \u001b[1m0s\u001b[0m 877us/step - loss: 0.0084 - root_mean_squared_error: 0.0916 - val_loss: 0.0578 - val_root_mean_squared_error: 0.2404\n",
      "Epoch 27/50\n",
      "\u001b[1m173/173\u001b[0m \u001b[32m━━━━━━━━━━━━━━━━━━━━\u001b[0m\u001b[37m\u001b[0m \u001b[1m0s\u001b[0m 853us/step - loss: 0.0125 - root_mean_squared_error: 0.1108 - val_loss: 0.0896 - val_root_mean_squared_error: 0.2993\n",
      "Epoch 28/50\n",
      "\u001b[1m173/173\u001b[0m \u001b[32m━━━━━━━━━━━━━━━━━━━━\u001b[0m\u001b[37m\u001b[0m \u001b[1m0s\u001b[0m 868us/step - loss: 0.0073 - root_mean_squared_error: 0.0833 - val_loss: 0.1161 - val_root_mean_squared_error: 0.3408\n",
      "Epoch 29/50\n",
      "\u001b[1m173/173\u001b[0m \u001b[32m━━━━━━━━━━━━━━━━━━━━\u001b[0m\u001b[37m\u001b[0m \u001b[1m0s\u001b[0m 865us/step - loss: 0.0041 - root_mean_squared_error: 0.0636 - val_loss: 0.0878 - val_root_mean_squared_error: 0.2963\n",
      "Epoch 30/50\n",
      "\u001b[1m173/173\u001b[0m \u001b[32m━━━━━━━━━━━━━━━━━━━━\u001b[0m\u001b[37m\u001b[0m \u001b[1m0s\u001b[0m 887us/step - loss: 0.0026 - root_mean_squared_error: 0.0512 - val_loss: 0.0851 - val_root_mean_squared_error: 0.2917\n",
      "Epoch 31/50\n",
      "\u001b[1m173/173\u001b[0m \u001b[32m━━━━━━━━━━━━━━━━━━━━\u001b[0m\u001b[37m\u001b[0m \u001b[1m0s\u001b[0m 887us/step - loss: 0.0023 - root_mean_squared_error: 0.0477 - val_loss: 0.0915 - val_root_mean_squared_error: 0.3025\n",
      "Epoch 32/50\n",
      "\u001b[1m173/173\u001b[0m \u001b[32m━━━━━━━━━━━━━━━━━━━━\u001b[0m\u001b[37m\u001b[0m \u001b[1m0s\u001b[0m 849us/step - loss: 0.0015 - root_mean_squared_error: 0.0383 - val_loss: 0.1803 - val_root_mean_squared_error: 0.4246\n",
      "Epoch 33/50\n",
      "\u001b[1m173/173\u001b[0m \u001b[32m━━━━━━━━━━━━━━━━━━━━\u001b[0m\u001b[37m\u001b[0m \u001b[1m0s\u001b[0m 869us/step - loss: 0.0122 - root_mean_squared_error: 0.1065 - val_loss: 0.0908 - val_root_mean_squared_error: 0.3014\n",
      "Epoch 34/50\n",
      "\u001b[1m173/173\u001b[0m \u001b[32m━━━━━━━━━━━━━━━━━━━━\u001b[0m\u001b[37m\u001b[0m \u001b[1m0s\u001b[0m 864us/step - loss: 0.0017 - root_mean_squared_error: 0.0403 - val_loss: 0.0795 - val_root_mean_squared_error: 0.2820\n",
      "Epoch 35/50\n",
      "\u001b[1m173/173\u001b[0m \u001b[32m━━━━━━━━━━━━━━━━━━━━\u001b[0m\u001b[37m\u001b[0m \u001b[1m0s\u001b[0m 891us/step - loss: 0.0019 - root_mean_squared_error: 0.0435 - val_loss: 0.0944 - val_root_mean_squared_error: 0.3072\n",
      "Epoch 36/50\n",
      "\u001b[1m173/173\u001b[0m \u001b[32m━━━━━━━━━━━━━━━━━━━━\u001b[0m\u001b[37m\u001b[0m \u001b[1m0s\u001b[0m 869us/step - loss: 0.0013 - root_mean_squared_error: 0.0356 - val_loss: 0.1018 - val_root_mean_squared_error: 0.3191\n",
      "Epoch 37/50\n",
      "\u001b[1m173/173\u001b[0m \u001b[32m━━━━━━━━━━━━━━━━━━━━\u001b[0m\u001b[37m\u001b[0m \u001b[1m0s\u001b[0m 881us/step - loss: 0.0096 - root_mean_squared_error: 0.0972 - val_loss: 0.0994 - val_root_mean_squared_error: 0.3153\n",
      "Epoch 38/50\n",
      "\u001b[1m173/173\u001b[0m \u001b[32m━━━━━━━━━━━━━━━━━━━━\u001b[0m\u001b[37m\u001b[0m \u001b[1m0s\u001b[0m 876us/step - loss: 0.0141 - root_mean_squared_error: 0.1182 - val_loss: 0.0955 - val_root_mean_squared_error: 0.3090\n",
      "Epoch 39/50\n",
      "\u001b[1m173/173\u001b[0m \u001b[32m━━━━━━━━━━━━━━━━━━━━\u001b[0m\u001b[37m\u001b[0m \u001b[1m0s\u001b[0m 877us/step - loss: 0.0077 - root_mean_squared_error: 0.0866 - val_loss: 0.0264 - val_root_mean_squared_error: 0.1624\n",
      "Epoch 40/50\n",
      "\u001b[1m173/173\u001b[0m \u001b[32m━━━━━━━━━━━━━━━━━━━━\u001b[0m\u001b[37m\u001b[0m \u001b[1m0s\u001b[0m 869us/step - loss: 0.0219 - root_mean_squared_error: 0.1463 - val_loss: 0.1329 - val_root_mean_squared_error: 0.3645\n",
      "Epoch 41/50\n",
      "\u001b[1m173/173\u001b[0m \u001b[32m━━━━━━━━━━━━━━━━━━━━\u001b[0m\u001b[37m\u001b[0m \u001b[1m0s\u001b[0m 847us/step - loss: 0.0060 - root_mean_squared_error: 0.0700 - val_loss: 0.1557 - val_root_mean_squared_error: 0.3945\n",
      "Epoch 42/50\n",
      "\u001b[1m173/173\u001b[0m \u001b[32m━━━━━━━━━━━━━━━━━━━━\u001b[0m\u001b[37m\u001b[0m \u001b[1m0s\u001b[0m 867us/step - loss: 0.0997 - root_mean_squared_error: 0.3131 - val_loss: 0.0975 - val_root_mean_squared_error: 0.3123\n",
      "Epoch 43/50\n",
      "\u001b[1m173/173\u001b[0m \u001b[32m━━━━━━━━━━━━━━━━━━━━\u001b[0m\u001b[37m\u001b[0m \u001b[1m0s\u001b[0m 856us/step - loss: 0.0178 - root_mean_squared_error: 0.1272 - val_loss: 0.0766 - val_root_mean_squared_error: 0.2767\n",
      "Epoch 44/50\n",
      "\u001b[1m173/173\u001b[0m \u001b[32m━━━━━━━━━━━━━━━━━━━━\u001b[0m\u001b[37m\u001b[0m \u001b[1m0s\u001b[0m 855us/step - loss: 0.0059 - root_mean_squared_error: 0.0756 - val_loss: 0.0831 - val_root_mean_squared_error: 0.2883\n",
      "Epoch 45/50\n",
      "\u001b[1m173/173\u001b[0m \u001b[32m━━━━━━━━━━━━━━━━━━━━\u001b[0m\u001b[37m\u001b[0m \u001b[1m0s\u001b[0m 842us/step - loss: 0.0060 - root_mean_squared_error: 0.0688 - val_loss: 0.1136 - val_root_mean_squared_error: 0.3370\n",
      "Epoch 46/50\n",
      "\u001b[1m173/173\u001b[0m \u001b[32m━━━━━━━━━━━━━━━━━━━━\u001b[0m\u001b[37m\u001b[0m \u001b[1m0s\u001b[0m 851us/step - loss: 0.0041 - root_mean_squared_error: 0.0637 - val_loss: 0.1013 - val_root_mean_squared_error: 0.3183\n",
      "Epoch 47/50\n",
      "\u001b[1m173/173\u001b[0m \u001b[32m━━━━━━━━━━━━━━━━━━━━\u001b[0m\u001b[37m\u001b[0m \u001b[1m0s\u001b[0m 878us/step - loss: 0.0041 - root_mean_squared_error: 0.0608 - val_loss: 0.0932 - val_root_mean_squared_error: 0.3053\n",
      "Epoch 48/50\n",
      "\u001b[1m173/173\u001b[0m \u001b[32m━━━━━━━━━━━━━━━━━━━━\u001b[0m\u001b[37m\u001b[0m \u001b[1m0s\u001b[0m 879us/step - loss: 0.0038 - root_mean_squared_error: 0.0609 - val_loss: 0.0751 - val_root_mean_squared_error: 0.2740\n",
      "Epoch 49/50\n",
      "\u001b[1m173/173\u001b[0m \u001b[32m━━━━━━━━━━━━━━━━━━━━\u001b[0m\u001b[37m\u001b[0m \u001b[1m0s\u001b[0m 862us/step - loss: 0.0146 - root_mean_squared_error: 0.1182 - val_loss: 0.0995 - val_root_mean_squared_error: 0.3154\n",
      "Epoch 50/50\n",
      "\u001b[1m173/173\u001b[0m \u001b[32m━━━━━━━━━━━━━━━━━━━━\u001b[0m\u001b[37m\u001b[0m \u001b[1m0s\u001b[0m 842us/step - loss: 0.0015 - root_mean_squared_error: 0.0390 - val_loss: 0.1139 - val_root_mean_squared_error: 0.3376\n"
     ]
    },
    {
     "data": {
      "text/plain": [
       "<keras.src.callbacks.history.History at 0x3003090a0>"
      ]
     },
     "execution_count": 12,
     "metadata": {},
     "output_type": "execute_result"
    }
   ],
   "source": [
    "model.fit(X_training, y_training, epochs=50, batch_size=32, validation_data=(X_testing, y_testing))"
   ]
  },
  {
   "cell_type": "code",
   "execution_count": 13,
   "metadata": {},
   "outputs": [
    {
     "name": "stdout",
     "output_type": "stream",
     "text": [
      "\u001b[1m44/44\u001b[0m \u001b[32m━━━━━━━━━━━━━━━━━━━━\u001b[0m\u001b[37m\u001b[0m \u001b[1m0s\u001b[0m 686us/step - loss: 0.0871 - root_mean_squared_error: 0.2923\n"
     ]
    },
    {
     "data": {
      "text/plain": [
       "[0.11394671350717545, 0.33755993843078613]"
      ]
     },
     "execution_count": 13,
     "metadata": {},
     "output_type": "execute_result"
    }
   ],
   "source": [
    "model.evaluate(X_testing, y_testing)"
   ]
  },
  {
   "cell_type": "markdown",
   "metadata": {},
   "source": [
    "### Predicting"
   ]
  },
  {
   "cell_type": "code",
   "execution_count": 14,
   "metadata": {},
   "outputs": [
    {
     "name": "stdout",
     "output_type": "stream",
     "text": [
      "\u001b[1m44/44\u001b[0m \u001b[32m━━━━━━━━━━━━━━━━━━━━\u001b[0m\u001b[37m\u001b[0m \u001b[1m0s\u001b[0m 863us/step\n",
      "r2: 0.9580670853858161\n"
     ]
    }
   ],
   "source": [
    "y_prediction = model.predict(X_testing)\n",
    "\n",
    "r2 = r2_score(y_testing, y_prediction)\n",
    "print(f\"r2: {r2}\")"
   ]
  },
  {
   "cell_type": "markdown",
   "metadata": {},
   "source": [
    "## Saving"
   ]
  },
  {
   "cell_type": "code",
   "execution_count": 15,
   "metadata": {},
   "outputs": [],
   "source": [
    "model_df.to_csv(\"data/output/game_sales_ml_model.csv\", index=False)"
   ]
  }
 ],
 "metadata": {
  "kernelspec": {
   "display_name": "Python 3",
   "language": "python",
   "name": "python3"
  },
  "language_info": {
   "codemirror_mode": {
    "name": "ipython",
    "version": 3
   },
   "file_extension": ".py",
   "mimetype": "text/x-python",
   "name": "python",
   "nbconvert_exporter": "python",
   "pygments_lexer": "ipython3",
   "version": "3.9.6"
  }
 },
 "nbformat": 4,
 "nbformat_minor": 4
}
