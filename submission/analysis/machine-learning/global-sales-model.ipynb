{
 "cells": [
  {
   "cell_type": "markdown",
   "metadata": {},
   "source": [
    "# \"Global sales\" model"
   ]
  },
  {
   "cell_type": "code",
   "execution_count": 1,
   "metadata": {},
   "outputs": [
    {
     "name": "stderr",
     "output_type": "stream",
     "text": [
      "/Users/tyler/Library/Python/3.9/lib/python/site-packages/urllib3/__init__.py:35: NotOpenSSLWarning: urllib3 v2 only supports OpenSSL 1.1.1+, currently the 'ssl' module is compiled with 'LibreSSL 2.8.3'. See: https://github.com/urllib3/urllib3/issues/3020\n",
      "  warnings.warn(\n"
     ]
    }
   ],
   "source": [
    "import pandas as pd\n",
    "\n",
    "from tensorflow import keras\n",
    "\n",
    "from sklearn.preprocessing import LabelEncoder, StandardScaler\n",
    "from sklearn.metrics import r2_score\n",
    "from sklearn.model_selection import train_test_split"
   ]
  },
  {
   "cell_type": "code",
   "execution_count": 2,
   "metadata": {},
   "outputs": [
    {
     "data": {
      "text/html": [
       "<div>\n",
       "<style scoped>\n",
       "    .dataframe tbody tr th:only-of-type {\n",
       "        vertical-align: middle;\n",
       "    }\n",
       "\n",
       "    .dataframe tbody tr th {\n",
       "        vertical-align: top;\n",
       "    }\n",
       "\n",
       "    .dataframe thead th {\n",
       "        text-align: right;\n",
       "    }\n",
       "</style>\n",
       "<table border=\"1\" class=\"dataframe\">\n",
       "  <thead>\n",
       "    <tr style=\"text-align: right;\">\n",
       "      <th></th>\n",
       "      <th>Name</th>\n",
       "      <th>Platform</th>\n",
       "      <th>Publisher</th>\n",
       "      <th>Genre</th>\n",
       "      <th>Rating</th>\n",
       "      <th>Year of Release</th>\n",
       "      <th>Critic Score</th>\n",
       "      <th>User Score</th>\n",
       "      <th>NA Sales</th>\n",
       "      <th>EU Sales</th>\n",
       "      <th>JP Sales</th>\n",
       "      <th>Other Sales</th>\n",
       "      <th>Global Sales</th>\n",
       "    </tr>\n",
       "  </thead>\n",
       "  <tbody>\n",
       "    <tr>\n",
       "      <th>0</th>\n",
       "      <td>Wii Sports</td>\n",
       "      <td>Wii</td>\n",
       "      <td>Nintendo</td>\n",
       "      <td>Sports</td>\n",
       "      <td>E</td>\n",
       "      <td>2006</td>\n",
       "      <td>76.0</td>\n",
       "      <td>8.0</td>\n",
       "      <td>41.36</td>\n",
       "      <td>28.96</td>\n",
       "      <td>3.77</td>\n",
       "      <td>8.45</td>\n",
       "      <td>82.53</td>\n",
       "    </tr>\n",
       "    <tr>\n",
       "      <th>1</th>\n",
       "      <td>Mario Kart Wii</td>\n",
       "      <td>Wii</td>\n",
       "      <td>Nintendo</td>\n",
       "      <td>Racing</td>\n",
       "      <td>E</td>\n",
       "      <td>2008</td>\n",
       "      <td>82.0</td>\n",
       "      <td>8.3</td>\n",
       "      <td>15.68</td>\n",
       "      <td>12.76</td>\n",
       "      <td>3.79</td>\n",
       "      <td>3.29</td>\n",
       "      <td>35.52</td>\n",
       "    </tr>\n",
       "    <tr>\n",
       "      <th>2</th>\n",
       "      <td>Wii Sports Resort</td>\n",
       "      <td>Wii</td>\n",
       "      <td>Nintendo</td>\n",
       "      <td>Sports</td>\n",
       "      <td>E</td>\n",
       "      <td>2009</td>\n",
       "      <td>80.0</td>\n",
       "      <td>8.0</td>\n",
       "      <td>15.61</td>\n",
       "      <td>10.93</td>\n",
       "      <td>3.28</td>\n",
       "      <td>2.95</td>\n",
       "      <td>32.77</td>\n",
       "    </tr>\n",
       "    <tr>\n",
       "      <th>3</th>\n",
       "      <td>New Super Mario Bros.</td>\n",
       "      <td>DS</td>\n",
       "      <td>Nintendo</td>\n",
       "      <td>Platform</td>\n",
       "      <td>E</td>\n",
       "      <td>2006</td>\n",
       "      <td>89.0</td>\n",
       "      <td>8.5</td>\n",
       "      <td>11.28</td>\n",
       "      <td>9.14</td>\n",
       "      <td>6.50</td>\n",
       "      <td>2.88</td>\n",
       "      <td>29.80</td>\n",
       "    </tr>\n",
       "    <tr>\n",
       "      <th>4</th>\n",
       "      <td>Wii Play</td>\n",
       "      <td>Wii</td>\n",
       "      <td>Nintendo</td>\n",
       "      <td>Misc</td>\n",
       "      <td>E</td>\n",
       "      <td>2006</td>\n",
       "      <td>58.0</td>\n",
       "      <td>6.6</td>\n",
       "      <td>13.96</td>\n",
       "      <td>9.18</td>\n",
       "      <td>2.93</td>\n",
       "      <td>2.84</td>\n",
       "      <td>28.92</td>\n",
       "    </tr>\n",
       "  </tbody>\n",
       "</table>\n",
       "</div>"
      ],
      "text/plain": [
       "                    Name Platform Publisher     Genre Rating  Year of Release  \\\n",
       "0             Wii Sports      Wii  Nintendo    Sports      E             2006   \n",
       "1         Mario Kart Wii      Wii  Nintendo    Racing      E             2008   \n",
       "2      Wii Sports Resort      Wii  Nintendo    Sports      E             2009   \n",
       "3  New Super Mario Bros.       DS  Nintendo  Platform      E             2006   \n",
       "4               Wii Play      Wii  Nintendo      Misc      E             2006   \n",
       "\n",
       "   Critic Score  User Score  NA Sales  EU Sales  JP Sales  Other Sales  \\\n",
       "0          76.0         8.0     41.36     28.96      3.77         8.45   \n",
       "1          82.0         8.3     15.68     12.76      3.79         3.29   \n",
       "2          80.0         8.0     15.61     10.93      3.28         2.95   \n",
       "3          89.0         8.5     11.28      9.14      6.50         2.88   \n",
       "4          58.0         6.6     13.96      9.18      2.93         2.84   \n",
       "\n",
       "   Global Sales  \n",
       "0         82.53  \n",
       "1         35.52  \n",
       "2         32.77  \n",
       "3         29.80  \n",
       "4         28.92  "
      ]
     },
     "execution_count": 2,
     "metadata": {},
     "output_type": "execute_result"
    }
   ],
   "source": [
    "games_df = pd.read_csv(\"../data/games.csv\")\n",
    "\n",
    "games_df.head()"
   ]
  },
  {
   "cell_type": "markdown",
   "metadata": {},
   "source": [
    "## Data preprocessing"
   ]
  },
  {
   "cell_type": "code",
   "execution_count": 3,
   "metadata": {},
   "outputs": [
    {
     "data": {
      "text/html": [
       "<div>\n",
       "<style scoped>\n",
       "    .dataframe tbody tr th:only-of-type {\n",
       "        vertical-align: middle;\n",
       "    }\n",
       "\n",
       "    .dataframe tbody tr th {\n",
       "        vertical-align: top;\n",
       "    }\n",
       "\n",
       "    .dataframe thead th {\n",
       "        text-align: right;\n",
       "    }\n",
       "</style>\n",
       "<table border=\"1\" class=\"dataframe\">\n",
       "  <thead>\n",
       "    <tr style=\"text-align: right;\">\n",
       "      <th></th>\n",
       "      <th>Name</th>\n",
       "      <th>Platform</th>\n",
       "      <th>Publisher</th>\n",
       "      <th>Genre</th>\n",
       "      <th>Rating</th>\n",
       "      <th>Year of Release</th>\n",
       "      <th>Critic Score</th>\n",
       "      <th>User Score</th>\n",
       "      <th>NA Sales</th>\n",
       "      <th>EU Sales</th>\n",
       "      <th>JP Sales</th>\n",
       "      <th>Other Sales</th>\n",
       "      <th>Global Sales</th>\n",
       "    </tr>\n",
       "  </thead>\n",
       "  <tbody>\n",
       "    <tr>\n",
       "      <th>0</th>\n",
       "      <td>Wii Sports</td>\n",
       "      <td>Wii</td>\n",
       "      <td>Nintendo</td>\n",
       "      <td>Sports</td>\n",
       "      <td>E</td>\n",
       "      <td>2006</td>\n",
       "      <td>76.0</td>\n",
       "      <td>8.0</td>\n",
       "      <td>41.36</td>\n",
       "      <td>28.96</td>\n",
       "      <td>3.77</td>\n",
       "      <td>8.45</td>\n",
       "      <td>82.53</td>\n",
       "    </tr>\n",
       "    <tr>\n",
       "      <th>1</th>\n",
       "      <td>Mario Kart Wii</td>\n",
       "      <td>Wii</td>\n",
       "      <td>Nintendo</td>\n",
       "      <td>Racing</td>\n",
       "      <td>E</td>\n",
       "      <td>2008</td>\n",
       "      <td>82.0</td>\n",
       "      <td>8.3</td>\n",
       "      <td>15.68</td>\n",
       "      <td>12.76</td>\n",
       "      <td>3.79</td>\n",
       "      <td>3.29</td>\n",
       "      <td>35.52</td>\n",
       "    </tr>\n",
       "    <tr>\n",
       "      <th>2</th>\n",
       "      <td>Wii Sports Resort</td>\n",
       "      <td>Wii</td>\n",
       "      <td>Nintendo</td>\n",
       "      <td>Sports</td>\n",
       "      <td>E</td>\n",
       "      <td>2009</td>\n",
       "      <td>80.0</td>\n",
       "      <td>8.0</td>\n",
       "      <td>15.61</td>\n",
       "      <td>10.93</td>\n",
       "      <td>3.28</td>\n",
       "      <td>2.95</td>\n",
       "      <td>32.77</td>\n",
       "    </tr>\n",
       "    <tr>\n",
       "      <th>3</th>\n",
       "      <td>New Super Mario Bros.</td>\n",
       "      <td>DS</td>\n",
       "      <td>Nintendo</td>\n",
       "      <td>Platform</td>\n",
       "      <td>E</td>\n",
       "      <td>2006</td>\n",
       "      <td>89.0</td>\n",
       "      <td>8.5</td>\n",
       "      <td>11.28</td>\n",
       "      <td>9.14</td>\n",
       "      <td>6.50</td>\n",
       "      <td>2.88</td>\n",
       "      <td>29.80</td>\n",
       "    </tr>\n",
       "    <tr>\n",
       "      <th>4</th>\n",
       "      <td>Wii Play</td>\n",
       "      <td>Wii</td>\n",
       "      <td>Nintendo</td>\n",
       "      <td>Misc</td>\n",
       "      <td>E</td>\n",
       "      <td>2006</td>\n",
       "      <td>58.0</td>\n",
       "      <td>6.6</td>\n",
       "      <td>13.96</td>\n",
       "      <td>9.18</td>\n",
       "      <td>2.93</td>\n",
       "      <td>2.84</td>\n",
       "      <td>28.92</td>\n",
       "    </tr>\n",
       "  </tbody>\n",
       "</table>\n",
       "</div>"
      ],
      "text/plain": [
       "                    Name Platform Publisher     Genre Rating  Year of Release  \\\n",
       "0             Wii Sports      Wii  Nintendo    Sports      E             2006   \n",
       "1         Mario Kart Wii      Wii  Nintendo    Racing      E             2008   \n",
       "2      Wii Sports Resort      Wii  Nintendo    Sports      E             2009   \n",
       "3  New Super Mario Bros.       DS  Nintendo  Platform      E             2006   \n",
       "4               Wii Play      Wii  Nintendo      Misc      E             2006   \n",
       "\n",
       "   Critic Score  User Score  NA Sales  EU Sales  JP Sales  Other Sales  \\\n",
       "0          76.0         8.0     41.36     28.96      3.77         8.45   \n",
       "1          82.0         8.3     15.68     12.76      3.79         3.29   \n",
       "2          80.0         8.0     15.61     10.93      3.28         2.95   \n",
       "3          89.0         8.5     11.28      9.14      6.50         2.88   \n",
       "4          58.0         6.6     13.96      9.18      2.93         2.84   \n",
       "\n",
       "   Global Sales  \n",
       "0         82.53  \n",
       "1         35.52  \n",
       "2         32.77  \n",
       "3         29.80  \n",
       "4         28.92  "
      ]
     },
     "execution_count": 3,
     "metadata": {},
     "output_type": "execute_result"
    }
   ],
   "source": [
    "model_df = games_df.copy()\n",
    "\n",
    "model_df.head()"
   ]
  },
  {
   "cell_type": "markdown",
   "metadata": {},
   "source": [
    "### Handling categorical data"
   ]
  },
  {
   "cell_type": "code",
   "execution_count": 4,
   "metadata": {},
   "outputs": [
    {
     "data": {
      "text/plain": [
       "Name         4428\n",
       "Platform       17\n",
       "Publisher     271\n",
       "Genre          12\n",
       "Rating          8\n",
       "dtype: int64"
      ]
     },
     "execution_count": 4,
     "metadata": {},
     "output_type": "execute_result"
    }
   ],
   "source": [
    "model_df[[\"Name\", \"Platform\", \"Publisher\", \"Genre\", \"Rating\"]].nunique()"
   ]
  },
  {
   "cell_type": "code",
   "execution_count": 5,
   "metadata": {},
   "outputs": [],
   "source": [
    "unnecessary_columns = [\"Name\"] # too many of them\n",
    "onehot_encode_columns = [\"Platform\", \"Genre\", \"Rating\"] # <=50 of them\n",
    "label_encode_columns = [\"Publisher\"] # >50 of them"
   ]
  },
  {
   "cell_type": "code",
   "execution_count": 6,
   "metadata": {},
   "outputs": [],
   "source": [
    "# unnecessary columns\n",
    "model_df = model_df.drop(columns=unnecessary_columns)\n",
    "\n",
    "# one-hot encode columns\n",
    "model_df = pd.get_dummies(model_df, columns=onehot_encode_columns)\n",
    "\n",
    "# label encode columns\n",
    "label_encoder = LabelEncoder()\n",
    "for label_encode_column in label_encode_columns:\n",
    "    model_df[label_encode_column] = label_encoder.fit_transform(model_df[label_encode_column])"
   ]
  },
  {
   "cell_type": "code",
   "execution_count": 7,
   "metadata": {},
   "outputs": [
    {
     "data": {
      "text/html": [
       "<div>\n",
       "<style scoped>\n",
       "    .dataframe tbody tr th:only-of-type {\n",
       "        vertical-align: middle;\n",
       "    }\n",
       "\n",
       "    .dataframe tbody tr th {\n",
       "        vertical-align: top;\n",
       "    }\n",
       "\n",
       "    .dataframe thead th {\n",
       "        text-align: right;\n",
       "    }\n",
       "</style>\n",
       "<table border=\"1\" class=\"dataframe\">\n",
       "  <thead>\n",
       "    <tr style=\"text-align: right;\">\n",
       "      <th></th>\n",
       "      <th>Publisher</th>\n",
       "      <th>Year of Release</th>\n",
       "      <th>Critic Score</th>\n",
       "      <th>User Score</th>\n",
       "      <th>NA Sales</th>\n",
       "      <th>EU Sales</th>\n",
       "      <th>JP Sales</th>\n",
       "      <th>Other Sales</th>\n",
       "      <th>Global Sales</th>\n",
       "      <th>Platform_3DS</th>\n",
       "      <th>...</th>\n",
       "      <th>Genre_Sports</th>\n",
       "      <th>Genre_Strategy</th>\n",
       "      <th>Rating_AO</th>\n",
       "      <th>Rating_E</th>\n",
       "      <th>Rating_E10+</th>\n",
       "      <th>Rating_K-A</th>\n",
       "      <th>Rating_M</th>\n",
       "      <th>Rating_RP</th>\n",
       "      <th>Rating_T</th>\n",
       "      <th>Rating_Unknown</th>\n",
       "    </tr>\n",
       "  </thead>\n",
       "  <tbody>\n",
       "    <tr>\n",
       "      <th>0</th>\n",
       "      <td>167</td>\n",
       "      <td>2006</td>\n",
       "      <td>76.0</td>\n",
       "      <td>8.0</td>\n",
       "      <td>41.36</td>\n",
       "      <td>28.96</td>\n",
       "      <td>3.77</td>\n",
       "      <td>8.45</td>\n",
       "      <td>82.53</td>\n",
       "      <td>False</td>\n",
       "      <td>...</td>\n",
       "      <td>True</td>\n",
       "      <td>False</td>\n",
       "      <td>False</td>\n",
       "      <td>True</td>\n",
       "      <td>False</td>\n",
       "      <td>False</td>\n",
       "      <td>False</td>\n",
       "      <td>False</td>\n",
       "      <td>False</td>\n",
       "      <td>False</td>\n",
       "    </tr>\n",
       "    <tr>\n",
       "      <th>1</th>\n",
       "      <td>167</td>\n",
       "      <td>2008</td>\n",
       "      <td>82.0</td>\n",
       "      <td>8.3</td>\n",
       "      <td>15.68</td>\n",
       "      <td>12.76</td>\n",
       "      <td>3.79</td>\n",
       "      <td>3.29</td>\n",
       "      <td>35.52</td>\n",
       "      <td>False</td>\n",
       "      <td>...</td>\n",
       "      <td>False</td>\n",
       "      <td>False</td>\n",
       "      <td>False</td>\n",
       "      <td>True</td>\n",
       "      <td>False</td>\n",
       "      <td>False</td>\n",
       "      <td>False</td>\n",
       "      <td>False</td>\n",
       "      <td>False</td>\n",
       "      <td>False</td>\n",
       "    </tr>\n",
       "    <tr>\n",
       "      <th>2</th>\n",
       "      <td>167</td>\n",
       "      <td>2009</td>\n",
       "      <td>80.0</td>\n",
       "      <td>8.0</td>\n",
       "      <td>15.61</td>\n",
       "      <td>10.93</td>\n",
       "      <td>3.28</td>\n",
       "      <td>2.95</td>\n",
       "      <td>32.77</td>\n",
       "      <td>False</td>\n",
       "      <td>...</td>\n",
       "      <td>True</td>\n",
       "      <td>False</td>\n",
       "      <td>False</td>\n",
       "      <td>True</td>\n",
       "      <td>False</td>\n",
       "      <td>False</td>\n",
       "      <td>False</td>\n",
       "      <td>False</td>\n",
       "      <td>False</td>\n",
       "      <td>False</td>\n",
       "    </tr>\n",
       "    <tr>\n",
       "      <th>3</th>\n",
       "      <td>167</td>\n",
       "      <td>2006</td>\n",
       "      <td>89.0</td>\n",
       "      <td>8.5</td>\n",
       "      <td>11.28</td>\n",
       "      <td>9.14</td>\n",
       "      <td>6.50</td>\n",
       "      <td>2.88</td>\n",
       "      <td>29.80</td>\n",
       "      <td>False</td>\n",
       "      <td>...</td>\n",
       "      <td>False</td>\n",
       "      <td>False</td>\n",
       "      <td>False</td>\n",
       "      <td>True</td>\n",
       "      <td>False</td>\n",
       "      <td>False</td>\n",
       "      <td>False</td>\n",
       "      <td>False</td>\n",
       "      <td>False</td>\n",
       "      <td>False</td>\n",
       "    </tr>\n",
       "    <tr>\n",
       "      <th>4</th>\n",
       "      <td>167</td>\n",
       "      <td>2006</td>\n",
       "      <td>58.0</td>\n",
       "      <td>6.6</td>\n",
       "      <td>13.96</td>\n",
       "      <td>9.18</td>\n",
       "      <td>2.93</td>\n",
       "      <td>2.84</td>\n",
       "      <td>28.92</td>\n",
       "      <td>False</td>\n",
       "      <td>...</td>\n",
       "      <td>False</td>\n",
       "      <td>False</td>\n",
       "      <td>False</td>\n",
       "      <td>True</td>\n",
       "      <td>False</td>\n",
       "      <td>False</td>\n",
       "      <td>False</td>\n",
       "      <td>False</td>\n",
       "      <td>False</td>\n",
       "      <td>False</td>\n",
       "    </tr>\n",
       "  </tbody>\n",
       "</table>\n",
       "<p>5 rows × 46 columns</p>\n",
       "</div>"
      ],
      "text/plain": [
       "   Publisher  Year of Release  Critic Score  User Score  NA Sales  EU Sales  \\\n",
       "0        167             2006          76.0         8.0     41.36     28.96   \n",
       "1        167             2008          82.0         8.3     15.68     12.76   \n",
       "2        167             2009          80.0         8.0     15.61     10.93   \n",
       "3        167             2006          89.0         8.5     11.28      9.14   \n",
       "4        167             2006          58.0         6.6     13.96      9.18   \n",
       "\n",
       "   JP Sales  Other Sales  Global Sales  Platform_3DS  ...  Genre_Sports  \\\n",
       "0      3.77         8.45         82.53         False  ...          True   \n",
       "1      3.79         3.29         35.52         False  ...         False   \n",
       "2      3.28         2.95         32.77         False  ...          True   \n",
       "3      6.50         2.88         29.80         False  ...         False   \n",
       "4      2.93         2.84         28.92         False  ...         False   \n",
       "\n",
       "   Genre_Strategy  Rating_AO  Rating_E  Rating_E10+  Rating_K-A  Rating_M  \\\n",
       "0           False      False      True        False       False     False   \n",
       "1           False      False      True        False       False     False   \n",
       "2           False      False      True        False       False     False   \n",
       "3           False      False      True        False       False     False   \n",
       "4           False      False      True        False       False     False   \n",
       "\n",
       "   Rating_RP  Rating_T  Rating_Unknown  \n",
       "0      False     False           False  \n",
       "1      False     False           False  \n",
       "2      False     False           False  \n",
       "3      False     False           False  \n",
       "4      False     False           False  \n",
       "\n",
       "[5 rows x 46 columns]"
      ]
     },
     "execution_count": 7,
     "metadata": {},
     "output_type": "execute_result"
    }
   ],
   "source": [
    "model_df.head()"
   ]
  },
  {
   "cell_type": "markdown",
   "metadata": {},
   "source": [
    "## Modeling"
   ]
  },
  {
   "cell_type": "markdown",
   "metadata": {},
   "source": [
    "### Selecting the target (y) and features (X)"
   ]
  },
  {
   "cell_type": "code",
   "execution_count": 8,
   "metadata": {},
   "outputs": [],
   "source": [
    "y = model_df[\"Global Sales\"] # target\n",
    "X = model_df.drop(columns=[\"Global Sales\"]) # features"
   ]
  },
  {
   "cell_type": "markdown",
   "metadata": {},
   "source": [
    "### Splitting the data: 80% training and 20% testing"
   ]
  },
  {
   "cell_type": "code",
   "execution_count": 9,
   "metadata": {},
   "outputs": [],
   "source": [
    "X_training, X_testing, y_training, y_testing = train_test_split(X, y, test_size=.20, random_state=42)"
   ]
  },
  {
   "cell_type": "code",
   "execution_count": 10,
   "metadata": {},
   "outputs": [],
   "source": [
    "scaler = StandardScaler() # mean=0, standard_deviation=1\n",
    "\n",
    "X_training = scaler.fit_transform(X_training)\n",
    "X_testing = scaler.fit_transform(X_testing)"
   ]
  },
  {
   "cell_type": "markdown",
   "metadata": {},
   "source": [
    "### Building the regression model"
   ]
  },
  {
   "cell_type": "code",
   "execution_count": 11,
   "metadata": {},
   "outputs": [
    {
     "name": "stderr",
     "output_type": "stream",
     "text": [
      "/Users/tyler/Library/Python/3.9/lib/python/site-packages/keras/src/layers/core/dense.py:87: UserWarning: Do not pass an `input_shape`/`input_dim` argument to a layer. When using Sequential models, prefer using an `Input(shape)` object as the first layer in the model instead.\n",
      "  super().__init__(activity_regularizer=activity_regularizer, **kwargs)\n"
     ]
    }
   ],
   "source": [
    "model = keras.Sequential(\n",
    "    [\n",
    "        # layer 1\n",
    "        keras.layers.Dense(128, activation=\"relu\", input_shape=(X_training.shape[1],)),\n",
    "        # layer 2\n",
    "        keras.layers.Dense(64, activation=\"relu\"),\n",
    "        # layer 3\n",
    "        keras.layers.Dense(32, activation=\"relu\"),\n",
    "        # output layer\n",
    "        keras.layers.Dense(1)\n",
    "    ]\n",
    ")"
   ]
  },
  {
   "cell_type": "markdown",
   "metadata": {},
   "source": [
    "### Compiling the regression model"
   ]
  },
  {
   "cell_type": "code",
   "execution_count": 12,
   "metadata": {},
   "outputs": [],
   "source": [
    "model.compile(optimizer=\"adam\", loss=\"mean_squared_error\", metrics=[keras.metrics.RootMeanSquaredError()])"
   ]
  },
  {
   "cell_type": "markdown",
   "metadata": {},
   "source": [
    "### Training the regression model"
   ]
  },
  {
   "cell_type": "code",
   "execution_count": 13,
   "metadata": {},
   "outputs": [
    {
     "name": "stdout",
     "output_type": "stream",
     "text": [
      "Epoch 1/50\n",
      "\u001b[1m173/173\u001b[0m \u001b[32m━━━━━━━━━━━━━━━━━━━━\u001b[0m\u001b[37m\u001b[0m \u001b[1m1s\u001b[0m 1ms/step - loss: 0.9255 - root_mean_squared_error: 0.9321 - val_loss: 0.1934 - val_root_mean_squared_error: 0.4398\n",
      "Epoch 2/50\n",
      "\u001b[1m173/173\u001b[0m \u001b[32m━━━━━━━━━━━━━━━━━━━━\u001b[0m\u001b[37m\u001b[0m \u001b[1m0s\u001b[0m 897us/step - loss: 0.0650 - root_mean_squared_error: 0.2525 - val_loss: 0.0514 - val_root_mean_squared_error: 0.2268\n",
      "Epoch 3/50\n",
      "\u001b[1m173/173\u001b[0m \u001b[32m━━━━━━━━━━━━━━━━━━━━\u001b[0m\u001b[37m\u001b[0m \u001b[1m0s\u001b[0m 886us/step - loss: 0.0710 - root_mean_squared_error: 0.2624 - val_loss: 0.0977 - val_root_mean_squared_error: 0.3126\n",
      "Epoch 4/50\n",
      "\u001b[1m173/173\u001b[0m \u001b[32m━━━━━━━━━━━━━━━━━━━━\u001b[0m\u001b[37m\u001b[0m \u001b[1m0s\u001b[0m 872us/step - loss: 0.0267 - root_mean_squared_error: 0.1621 - val_loss: 0.0796 - val_root_mean_squared_error: 0.2822\n",
      "Epoch 5/50\n",
      "\u001b[1m173/173\u001b[0m \u001b[32m━━━━━━━━━━━━━━━━━━━━\u001b[0m\u001b[37m\u001b[0m \u001b[1m0s\u001b[0m 864us/step - loss: 0.0138 - root_mean_squared_error: 0.1174 - val_loss: 0.0553 - val_root_mean_squared_error: 0.2351\n",
      "Epoch 6/50\n",
      "\u001b[1m173/173\u001b[0m \u001b[32m━━━━━━━━━━━━━━━━━━━━\u001b[0m\u001b[37m\u001b[0m \u001b[1m0s\u001b[0m 855us/step - loss: 0.0111 - root_mean_squared_error: 0.1050 - val_loss: 0.0956 - val_root_mean_squared_error: 0.3092\n",
      "Epoch 7/50\n",
      "\u001b[1m173/173\u001b[0m \u001b[32m━━━━━━━━━━━━━━━━━━━━\u001b[0m\u001b[37m\u001b[0m \u001b[1m0s\u001b[0m 868us/step - loss: 0.0676 - root_mean_squared_error: 0.2549 - val_loss: 0.0827 - val_root_mean_squared_error: 0.2877\n",
      "Epoch 8/50\n",
      "\u001b[1m173/173\u001b[0m \u001b[32m━━━━━━━━━━━━━━━━━━━━\u001b[0m\u001b[37m\u001b[0m \u001b[1m0s\u001b[0m 868us/step - loss: 0.0214 - root_mean_squared_error: 0.1408 - val_loss: 0.0940 - val_root_mean_squared_error: 0.3065\n",
      "Epoch 9/50\n",
      "\u001b[1m173/173\u001b[0m \u001b[32m━━━━━━━━━━━━━━━━━━━━\u001b[0m\u001b[37m\u001b[0m \u001b[1m0s\u001b[0m 868us/step - loss: 0.0110 - root_mean_squared_error: 0.1039 - val_loss: 0.1003 - val_root_mean_squared_error: 0.3167\n",
      "Epoch 10/50\n",
      "\u001b[1m173/173\u001b[0m \u001b[32m━━━━━━━━━━━━━━━━━━━━\u001b[0m\u001b[37m\u001b[0m \u001b[1m0s\u001b[0m 869us/step - loss: 0.0133 - root_mean_squared_error: 0.1144 - val_loss: 0.1052 - val_root_mean_squared_error: 0.3243\n",
      "Epoch 11/50\n",
      "\u001b[1m173/173\u001b[0m \u001b[32m━━━━━━━━━━━━━━━━━━━━\u001b[0m\u001b[37m\u001b[0m \u001b[1m0s\u001b[0m 866us/step - loss: 0.0059 - root_mean_squared_error: 0.0750 - val_loss: 0.0533 - val_root_mean_squared_error: 0.2310\n",
      "Epoch 12/50\n",
      "\u001b[1m173/173\u001b[0m \u001b[32m━━━━━━━━━━━━━━━━━━━━\u001b[0m\u001b[37m\u001b[0m \u001b[1m0s\u001b[0m 867us/step - loss: 0.1361 - root_mean_squared_error: 0.3609 - val_loss: 0.0819 - val_root_mean_squared_error: 0.2862\n",
      "Epoch 13/50\n",
      "\u001b[1m173/173\u001b[0m \u001b[32m━━━━━━━━━━━━━━━━━━━━\u001b[0m\u001b[37m\u001b[0m \u001b[1m0s\u001b[0m 870us/step - loss: 0.0121 - root_mean_squared_error: 0.1092 - val_loss: 0.2734 - val_root_mean_squared_error: 0.5229\n",
      "Epoch 14/50\n",
      "\u001b[1m173/173\u001b[0m \u001b[32m━━━━━━━━━━━━━━━━━━━━\u001b[0m\u001b[37m\u001b[0m \u001b[1m0s\u001b[0m 868us/step - loss: 0.0460 - root_mean_squared_error: 0.2108 - val_loss: 0.0883 - val_root_mean_squared_error: 0.2972\n",
      "Epoch 15/50\n",
      "\u001b[1m173/173\u001b[0m \u001b[32m━━━━━━━━━━━━━━━━━━━━\u001b[0m\u001b[37m\u001b[0m \u001b[1m0s\u001b[0m 869us/step - loss: 0.0239 - root_mean_squared_error: 0.1523 - val_loss: 0.0803 - val_root_mean_squared_error: 0.2833\n",
      "Epoch 16/50\n",
      "\u001b[1m173/173\u001b[0m \u001b[32m━━━━━━━━━━━━━━━━━━━━\u001b[0m\u001b[37m\u001b[0m \u001b[1m0s\u001b[0m 1ms/step - loss: 0.0085 - root_mean_squared_error: 0.0909 - val_loss: 0.0954 - val_root_mean_squared_error: 0.3088\n",
      "Epoch 17/50\n",
      "\u001b[1m173/173\u001b[0m \u001b[32m━━━━━━━━━━━━━━━━━━━━\u001b[0m\u001b[37m\u001b[0m \u001b[1m0s\u001b[0m 867us/step - loss: 0.0031 - root_mean_squared_error: 0.0559 - val_loss: 0.1025 - val_root_mean_squared_error: 0.3201\n",
      "Epoch 18/50\n",
      "\u001b[1m173/173\u001b[0m \u001b[32m━━━━━━━━━━━━━━━━━━━━\u001b[0m\u001b[37m\u001b[0m \u001b[1m0s\u001b[0m 869us/step - loss: 0.0023 - root_mean_squared_error: 0.0473 - val_loss: 0.0904 - val_root_mean_squared_error: 0.3007\n",
      "Epoch 19/50\n",
      "\u001b[1m173/173\u001b[0m \u001b[32m━━━━━━━━━━━━━━━━━━━━\u001b[0m\u001b[37m\u001b[0m \u001b[1m0s\u001b[0m 865us/step - loss: 0.0023 - root_mean_squared_error: 0.0479 - val_loss: 0.1009 - val_root_mean_squared_error: 0.3177\n",
      "Epoch 20/50\n",
      "\u001b[1m173/173\u001b[0m \u001b[32m━━━━━━━━━━━━━━━━━━━━\u001b[0m\u001b[37m\u001b[0m \u001b[1m0s\u001b[0m 913us/step - loss: 0.0025 - root_mean_squared_error: 0.0500 - val_loss: 0.0954 - val_root_mean_squared_error: 0.3088\n",
      "Epoch 21/50\n",
      "\u001b[1m173/173\u001b[0m \u001b[32m━━━━━━━━━━━━━━━━━━━━\u001b[0m\u001b[37m\u001b[0m \u001b[1m0s\u001b[0m 905us/step - loss: 0.0034 - root_mean_squared_error: 0.0572 - val_loss: 0.1003 - val_root_mean_squared_error: 0.3167\n",
      "Epoch 22/50\n",
      "\u001b[1m173/173\u001b[0m \u001b[32m━━━━━━━━━━━━━━━━━━━━\u001b[0m\u001b[37m\u001b[0m \u001b[1m0s\u001b[0m 898us/step - loss: 0.0064 - root_mean_squared_error: 0.0777 - val_loss: 0.0779 - val_root_mean_squared_error: 0.2792\n",
      "Epoch 23/50\n",
      "\u001b[1m173/173\u001b[0m \u001b[32m━━━━━━━━━━━━━━━━━━━━\u001b[0m\u001b[37m\u001b[0m \u001b[1m0s\u001b[0m 877us/step - loss: 0.0067 - root_mean_squared_error: 0.0795 - val_loss: 0.0950 - val_root_mean_squared_error: 0.3083\n",
      "Epoch 24/50\n",
      "\u001b[1m173/173\u001b[0m \u001b[32m━━━━━━━━━━━━━━━━━━━━\u001b[0m\u001b[37m\u001b[0m \u001b[1m0s\u001b[0m 915us/step - loss: 0.0356 - root_mean_squared_error: 0.1701 - val_loss: 0.0846 - val_root_mean_squared_error: 0.2908\n",
      "Epoch 25/50\n",
      "\u001b[1m173/173\u001b[0m \u001b[32m━━━━━━━━━━━━━━━━━━━━\u001b[0m\u001b[37m\u001b[0m \u001b[1m0s\u001b[0m 908us/step - loss: 0.0122 - root_mean_squared_error: 0.1088 - val_loss: 0.0938 - val_root_mean_squared_error: 0.3062\n",
      "Epoch 26/50\n",
      "\u001b[1m173/173\u001b[0m \u001b[32m━━━━━━━━━━━━━━━━━━━━\u001b[0m\u001b[37m\u001b[0m \u001b[1m0s\u001b[0m 916us/step - loss: 0.0090 - root_mean_squared_error: 0.0934 - val_loss: 0.0884 - val_root_mean_squared_error: 0.2973\n",
      "Epoch 27/50\n",
      "\u001b[1m173/173\u001b[0m \u001b[32m━━━━━━━━━━━━━━━━━━━━\u001b[0m\u001b[37m\u001b[0m \u001b[1m0s\u001b[0m 905us/step - loss: 0.0050 - root_mean_squared_error: 0.0701 - val_loss: 0.0890 - val_root_mean_squared_error: 0.2983\n",
      "Epoch 28/50\n",
      "\u001b[1m173/173\u001b[0m \u001b[32m━━━━━━━━━━━━━━━━━━━━\u001b[0m\u001b[37m\u001b[0m \u001b[1m0s\u001b[0m 904us/step - loss: 0.0017 - root_mean_squared_error: 0.0417 - val_loss: 0.0978 - val_root_mean_squared_error: 0.3127\n",
      "Epoch 29/50\n",
      "\u001b[1m173/173\u001b[0m \u001b[32m━━━━━━━━━━━━━━━━━━━━\u001b[0m\u001b[37m\u001b[0m \u001b[1m0s\u001b[0m 904us/step - loss: 0.0013 - root_mean_squared_error: 0.0356 - val_loss: 0.0981 - val_root_mean_squared_error: 0.3132\n",
      "Epoch 30/50\n",
      "\u001b[1m173/173\u001b[0m \u001b[32m━━━━━━━━━━━━━━━━━━━━\u001b[0m\u001b[37m\u001b[0m \u001b[1m0s\u001b[0m 898us/step - loss: 0.0027 - root_mean_squared_error: 0.0518 - val_loss: 0.0738 - val_root_mean_squared_error: 0.2716\n",
      "Epoch 31/50\n",
      "\u001b[1m173/173\u001b[0m \u001b[32m━━━━━━━━━━━━━━━━━━━━\u001b[0m\u001b[37m\u001b[0m \u001b[1m0s\u001b[0m 914us/step - loss: 0.0228 - root_mean_squared_error: 0.1325 - val_loss: 0.0846 - val_root_mean_squared_error: 0.2908\n",
      "Epoch 32/50\n",
      "\u001b[1m173/173\u001b[0m \u001b[32m━━━━━━━━━━━━━━━━━━━━\u001b[0m\u001b[37m\u001b[0m \u001b[1m0s\u001b[0m 911us/step - loss: 0.0052 - root_mean_squared_error: 0.0718 - val_loss: 0.0999 - val_root_mean_squared_error: 0.3161\n",
      "Epoch 33/50\n",
      "\u001b[1m173/173\u001b[0m \u001b[32m━━━━━━━━━━━━━━━━━━━━\u001b[0m\u001b[37m\u001b[0m \u001b[1m0s\u001b[0m 897us/step - loss: 0.0044 - root_mean_squared_error: 0.0657 - val_loss: 0.1029 - val_root_mean_squared_error: 0.3208\n",
      "Epoch 34/50\n",
      "\u001b[1m173/173\u001b[0m \u001b[32m━━━━━━━━━━━━━━━━━━━━\u001b[0m\u001b[37m\u001b[0m \u001b[1m0s\u001b[0m 876us/step - loss: 0.0023 - root_mean_squared_error: 0.0476 - val_loss: 0.1054 - val_root_mean_squared_error: 0.3247\n",
      "Epoch 35/50\n",
      "\u001b[1m173/173\u001b[0m \u001b[32m━━━━━━━━━━━━━━━━━━━━\u001b[0m\u001b[37m\u001b[0m \u001b[1m0s\u001b[0m 870us/step - loss: 0.0066 - root_mean_squared_error: 0.0781 - val_loss: 0.0881 - val_root_mean_squared_error: 0.2969\n",
      "Epoch 36/50\n",
      "\u001b[1m173/173\u001b[0m \u001b[32m━━━━━━━━━━━━━━━━━━━━\u001b[0m\u001b[37m\u001b[0m \u001b[1m0s\u001b[0m 864us/step - loss: 0.0035 - root_mean_squared_error: 0.0588 - val_loss: 0.0630 - val_root_mean_squared_error: 0.2509\n",
      "Epoch 37/50\n",
      "\u001b[1m173/173\u001b[0m \u001b[32m━━━━━━━━━━━━━━━━━━━━\u001b[0m\u001b[37m\u001b[0m \u001b[1m0s\u001b[0m 868us/step - loss: 0.0017 - root_mean_squared_error: 0.0405 - val_loss: 0.1323 - val_root_mean_squared_error: 0.3638\n",
      "Epoch 38/50\n",
      "\u001b[1m173/173\u001b[0m \u001b[32m━━━━━━━━━━━━━━━━━━━━\u001b[0m\u001b[37m\u001b[0m \u001b[1m0s\u001b[0m 885us/step - loss: 0.0055 - root_mean_squared_error: 0.0736 - val_loss: 0.0933 - val_root_mean_squared_error: 0.3054\n",
      "Epoch 39/50\n",
      "\u001b[1m173/173\u001b[0m \u001b[32m━━━━━━━━━━━━━━━━━━━━\u001b[0m\u001b[37m\u001b[0m \u001b[1m0s\u001b[0m 881us/step - loss: 0.0054 - root_mean_squared_error: 0.0717 - val_loss: 0.0926 - val_root_mean_squared_error: 0.3044\n",
      "Epoch 40/50\n",
      "\u001b[1m173/173\u001b[0m \u001b[32m━━━━━━━━━━━━━━━━━━━━\u001b[0m\u001b[37m\u001b[0m \u001b[1m0s\u001b[0m 863us/step - loss: 0.0013 - root_mean_squared_error: 0.0365 - val_loss: 0.1117 - val_root_mean_squared_error: 0.3343\n",
      "Epoch 41/50\n",
      "\u001b[1m173/173\u001b[0m \u001b[32m━━━━━━━━━━━━━━━━━━━━\u001b[0m\u001b[37m\u001b[0m \u001b[1m0s\u001b[0m 869us/step - loss: 0.0027 - root_mean_squared_error: 0.0503 - val_loss: 0.0868 - val_root_mean_squared_error: 0.2947\n",
      "Epoch 42/50\n",
      "\u001b[1m173/173\u001b[0m \u001b[32m━━━━━━━━━━━━━━━━━━━━\u001b[0m\u001b[37m\u001b[0m \u001b[1m0s\u001b[0m 866us/step - loss: 0.1005 - root_mean_squared_error: 0.2957 - val_loss: 0.0980 - val_root_mean_squared_error: 0.3130\n",
      "Epoch 43/50\n",
      "\u001b[1m173/173\u001b[0m \u001b[32m━━━━━━━━━━━━━━━━━━━━\u001b[0m\u001b[37m\u001b[0m \u001b[1m0s\u001b[0m 871us/step - loss: 0.0052 - root_mean_squared_error: 0.0718 - val_loss: 0.0853 - val_root_mean_squared_error: 0.2921\n",
      "Epoch 44/50\n",
      "\u001b[1m173/173\u001b[0m \u001b[32m━━━━━━━━━━━━━━━━━━━━\u001b[0m\u001b[37m\u001b[0m \u001b[1m0s\u001b[0m 1ms/step - loss: 0.0028 - root_mean_squared_error: 0.0517 - val_loss: 0.0936 - val_root_mean_squared_error: 0.3060\n",
      "Epoch 45/50\n",
      "\u001b[1m173/173\u001b[0m \u001b[32m━━━━━━━━━━━━━━━━━━━━\u001b[0m\u001b[37m\u001b[0m \u001b[1m0s\u001b[0m 901us/step - loss: 0.0035 - root_mean_squared_error: 0.0589 - val_loss: 0.0819 - val_root_mean_squared_error: 0.2863\n",
      "Epoch 46/50\n",
      "\u001b[1m173/173\u001b[0m \u001b[32m━━━━━━━━━━━━━━━━━━━━\u001b[0m\u001b[37m\u001b[0m \u001b[1m0s\u001b[0m 894us/step - loss: 0.0019 - root_mean_squared_error: 0.0426 - val_loss: 0.0953 - val_root_mean_squared_error: 0.3088\n",
      "Epoch 47/50\n",
      "\u001b[1m173/173\u001b[0m \u001b[32m━━━━━━━━━━━━━━━━━━━━\u001b[0m\u001b[37m\u001b[0m \u001b[1m0s\u001b[0m 878us/step - loss: 0.0021 - root_mean_squared_error: 0.0462 - val_loss: 0.0898 - val_root_mean_squared_error: 0.2996\n",
      "Epoch 48/50\n",
      "\u001b[1m173/173\u001b[0m \u001b[32m━━━━━━━━━━━━━━━━━━━━\u001b[0m\u001b[37m\u001b[0m \u001b[1m0s\u001b[0m 908us/step - loss: 0.0013 - root_mean_squared_error: 0.0359 - val_loss: 0.1205 - val_root_mean_squared_error: 0.3472\n",
      "Epoch 49/50\n",
      "\u001b[1m173/173\u001b[0m \u001b[32m━━━━━━━━━━━━━━━━━━━━\u001b[0m\u001b[37m\u001b[0m \u001b[1m0s\u001b[0m 888us/step - loss: 0.0399 - root_mean_squared_error: 0.1960 - val_loss: 0.0990 - val_root_mean_squared_error: 0.3146\n",
      "Epoch 50/50\n",
      "\u001b[1m173/173\u001b[0m \u001b[32m━━━━━━━━━━━━━━━━━━━━\u001b[0m\u001b[37m\u001b[0m \u001b[1m0s\u001b[0m 886us/step - loss: 0.0020 - root_mean_squared_error: 0.0450 - val_loss: 0.0310 - val_root_mean_squared_error: 0.1762\n"
     ]
    },
    {
     "data": {
      "text/plain": [
       "<keras.src.callbacks.history.History at 0x176d090a0>"
      ]
     },
     "execution_count": 13,
     "metadata": {},
     "output_type": "execute_result"
    }
   ],
   "source": [
    "model.fit(X_training, y_training, epochs=50, batch_size=32, validation_data=(X_testing, y_testing))"
   ]
  },
  {
   "cell_type": "markdown",
   "metadata": {},
   "source": [
    "### Evaluating the regression model"
   ]
  },
  {
   "cell_type": "code",
   "execution_count": 14,
   "metadata": {},
   "outputs": [
    {
     "name": "stdout",
     "output_type": "stream",
     "text": [
      "\u001b[1m44/44\u001b[0m \u001b[32m━━━━━━━━━━━━━━━━━━━━\u001b[0m\u001b[37m\u001b[0m \u001b[1m0s\u001b[0m 709us/step - loss: 0.0258 - root_mean_squared_error: 0.1600\n"
     ]
    },
    {
     "data": {
      "text/plain": [
       "[0.031045323237776756, 0.17619682848453522]"
      ]
     },
     "execution_count": 14,
     "metadata": {},
     "output_type": "execute_result"
    }
   ],
   "source": [
    "model.evaluate(X_testing, y_testing)"
   ]
  },
  {
   "cell_type": "markdown",
   "metadata": {},
   "source": [
    "### Prediction"
   ]
  },
  {
   "cell_type": "code",
   "execution_count": 15,
   "metadata": {},
   "outputs": [
    {
     "name": "stdout",
     "output_type": "stream",
     "text": [
      "\u001b[1m44/44\u001b[0m \u001b[32m━━━━━━━━━━━━━━━━━━━━\u001b[0m\u001b[37m\u001b[0m \u001b[1m0s\u001b[0m 877us/step\n"
     ]
    }
   ],
   "source": [
    "y_prediction = model.predict(X_testing)"
   ]
  },
  {
   "cell_type": "markdown",
   "metadata": {},
   "source": [
    "### Prediction evaluation"
   ]
  },
  {
   "cell_type": "code",
   "execution_count": 16,
   "metadata": {},
   "outputs": [
    {
     "name": "stdout",
     "output_type": "stream",
     "text": [
      "r2: 0.9885751793631635\n"
     ]
    }
   ],
   "source": [
    "r2 = r2_score(y_testing, y_prediction)\n",
    "print(f\"r2: {r2}\")"
   ]
  },
  {
   "cell_type": "markdown",
   "metadata": {},
   "source": [
    "## Saving"
   ]
  },
  {
   "cell_type": "code",
   "execution_count": 17,
   "metadata": {},
   "outputs": [],
   "source": [
    "model_df.to_csv(\"output/model_data.csv\", index=False)"
   ]
  }
 ],
 "metadata": {
  "kernelspec": {
   "display_name": "Python 3",
   "language": "python",
   "name": "python3"
  },
  "language_info": {
   "codemirror_mode": {
    "name": "ipython",
    "version": 3
   },
   "file_extension": ".py",
   "mimetype": "text/x-python",
   "name": "python",
   "nbconvert_exporter": "python",
   "pygments_lexer": "ipython3",
   "version": "3.9.6"
  }
 },
 "nbformat": 4,
 "nbformat_minor": 2
}
